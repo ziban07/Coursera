{
 "cells": [
  {
   "cell_type": "markdown",
   "id": "3742f97a-fae1-4ae4-b486-33861b853189",
   "metadata": {},
   "source": [
    "# Data Science Tools and Ecosystem"
   ]
  },
  {
   "cell_type": "markdown",
   "id": "d35a8df1-3a93-435b-87d6-8a11a8a15aa7",
   "metadata": {},
   "source": [
    "In this notebook, Data Science Tools and Ecosystem are summarized."
   ]
  },
  {
   "cell_type": "markdown",
   "id": "c8d1a3fe-78f8-4b87-982b-cfb4a9ec802e",
   "metadata": {
    "tags": []
   },
   "source": [
    "** Objectives: **"
   ]
  },
  {
   "cell_type": "markdown",
   "id": "e59195e4-8361-4a95-a698-87483d4b28cd",
   "metadata": {},
   "source": [
    "List of popular languages for Data Science\n",
    "- Python\n",
    "- R\n",
    "- SQL"
   ]
  },
  {
   "cell_type": "markdown",
   "id": "378a8ddd-a2b4-4753-a13b-0fdc9cfceb55",
   "metadata": {},
   "source": [
    "Some of the popular languages that Data Scientists use are:\n",
    "1. Python\n",
    "2. R\n",
    "3. SQL"
   ]
  },
  {
   "cell_type": "markdown",
   "id": "62b1d373-f2f8-44fe-9b06-bf422da081e5",
   "metadata": {},
   "source": [
    "Some of the commonly used libraries used by Data Scientists include:\n",
    "1. Pandas\n",
    "2. Tensorflow\n",
    "3. Numpy\n"
   ]
  },
  {
   "cell_type": "markdown",
   "id": "7df343d4-d6a1-456c-be5b-8c050598bb57",
   "metadata": {},
   "source": [
    "| Data Science Tools |\n",
    "|--------------------|\n",
    "| RStudio |\n",
    "| Apache Spark |\n",
    "| TensorFlow |"
   ]
  },
  {
   "cell_type": "markdown",
   "id": "8588fb17-b3e9-48b8-b1a6-d02726499cde",
   "metadata": {},
   "source": [
    "### Below are a few examples of evaluating arithmetic expressions in Python"
   ]
  },
  {
   "cell_type": "markdown",
   "id": "3fef0742-6d44-4372-9eea-a03f1d4d42d3",
   "metadata": {},
   "source": [
    "This a simple arithmetic expression to mutiply then add integers"
   ]
  },
  {
   "cell_type": "code",
   "execution_count": 1,
   "id": "203cb0f2-5933-49e5-b504-8d7c877e108a",
   "metadata": {
    "tags": []
   },
   "outputs": [
    {
     "data": {
      "text/plain": [
       "17"
      ]
     },
     "execution_count": 1,
     "metadata": {},
     "output_type": "execute_result"
    }
   ],
   "source": [
    "(3*4)+5"
   ]
  },
  {
   "cell_type": "markdown",
   "id": "2086fdb3-1962-4e38-996f-b7369c16b479",
   "metadata": {},
   "source": [
    "This will convert 200 minutes to hours by diving by 60"
   ]
  },
  {
   "cell_type": "code",
   "execution_count": 2,
   "id": "b62ce8f3-70cf-4876-9939-69e9d90708f0",
   "metadata": {
    "tags": []
   },
   "outputs": [
    {
     "data": {
      "text/plain": [
       "3.3333333333333335"
      ]
     },
     "execution_count": 2,
     "metadata": {},
     "output_type": "execute_result"
    }
   ],
   "source": [
    "200/60"
   ]
  },
  {
   "cell_type": "markdown",
   "id": "2ad9d0be-beac-47ad-9168-7b6c9e6a0d74",
   "metadata": {},
   "source": [
    "## Author\n",
    "Mohd ZIban Ul Hoque"
   ]
  },
  {
   "cell_type": "code",
   "execution_count": null,
   "id": "5e73439f-b6d0-4675-bb22-5d82d6e1f1d7",
   "metadata": {},
   "outputs": [],
   "source": []
  }
 ],
 "metadata": {
  "kernelspec": {
   "display_name": "Python",
   "language": "python",
   "name": "conda-env-python-py"
  },
  "language_info": {
   "codemirror_mode": {
    "name": "ipython",
    "version": 3
   },
   "file_extension": ".py",
   "mimetype": "text/x-python",
   "name": "python",
   "nbconvert_exporter": "python",
   "pygments_lexer": "ipython3",
   "version": "3.7.12"
  }
 },
 "nbformat": 4,
 "nbformat_minor": 5
}
